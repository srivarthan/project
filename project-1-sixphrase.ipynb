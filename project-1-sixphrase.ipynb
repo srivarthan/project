{
 "cells": [
  {
   "cell_type": "code",
   "execution_count": null,
   "metadata": {},
   "outputs": [],
   "source": [
    "import speech_recognition as sr\n",
    "r = sr.Recognizer()\n",
    "with sr.Microphone() as source:\n",
    "    print('speak anything')\n",
    "    audio = r.listen(source)\n",
    "    try:\n",
    "        text = r.recognize_google(audio)\n",
    "        print(text)\n",
    "    except:\n",
    "        print('sry couldnt process the speech')\n",
    "import language_tool_python\n",
    "tool = language_tool_python.LanguageTool('en-US')\n",
    "matches = tool.check(text)\n",
    "matches\n",
    "my_mistakes = []\n",
    "my_corrections = []\n",
    "start_positions = []\n",
    "end_positions = []\n",
    " \n",
    "for rules in matches:\n",
    "    if len(rules.replacements)>0:\n",
    "        start_positions.append(rules.offset)\n",
    "        end_positions.append(rules.errorLength+rules.offset)\n",
    "        my_mistakes.append(text[rules.offset:rules.errorLength+rules.offset])\n",
    "        my_corrections.append(rules.replacements[0])\n",
    "     \n",
    " \n",
    "     \n",
    "my_new_text = list(text)\n",
    " \n",
    "for m in range(len(start_positions)):\n",
    "    for i in range(len(text)):\n",
    "        my_new_text[start_positions[m]] = my_corrections[m]\n",
    "        if (i>start_positions[m] and i<end_positions[m]):\n",
    "            my_new_text[i]=\"\"\n",
    "my_new_text = \"\".join(my_new_text)\n",
    "mistakes=list(zip(my_mistakes,my_corrections))\n",
    "print('------------------')\n",
    "if len(mistakes) >= 1:\n",
    "    print('mistakes are:',mistakes)\n",
    "else:\n",
    "    print('no mistakes')\n",
    "print('------------------')\n",
    "mistake_rate = len(my_mistakes)/len(text)\n",
    "print('number of mistakes :' ,len(my_mistakes))\n",
    "print('------------------')\n",
    "print('mistake_rate:',mistake_rate)\n",
    "corrected_text = tool.correct(text)        \n",
    "print(corrected_text)\n",
    "import os\n",
    "from gtts import gTTS\n",
    "language = 'en'\n",
    "output = gTTS(text = corrected_text , lang = language , slow =  False)\n",
    "output.save('output_test.mp3')\n",
    "os.system('start output_test.mp3')"
   ]
  },
  {
   "cell_type": "code",
   "execution_count": null,
   "metadata": {},
   "outputs": [],
   "source": []
  }
 ],
 "metadata": {
  "kernelspec": {
   "display_name": "Python 3",
   "language": "python",
   "name": "python3"
  },
  "language_info": {
   "codemirror_mode": {
    "name": "ipython",
    "version": 3
   },
   "file_extension": ".py",
   "mimetype": "text/x-python",
   "name": "python",
   "nbconvert_exporter": "python",
   "pygments_lexer": "ipython3",
   "version": "3.8.3"
  }
 },
 "nbformat": 4,
 "nbformat_minor": 4
}
