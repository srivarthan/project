{
 "cells": [
  {
   "cell_type": "markdown",
   "metadata": {},
   "source": [
    "# *Speech recognition*\n",
    "##### *First of all we should install necessary libraries using \"pip install comand\"  in comand prompt*\n",
    "##### *Those libraries are speech_recognition and pyaudio*\n",
    "##### *Create an object using recognizer*\n",
    "##### *Lets make oru microphone as a source of input* \n",
    "##### *Then using listen function we read the audio file*\n",
    "##### *We need to do exception handling because though the machine cant recognise the voice we should not get an error*\n",
    "##### *We use recognize_google to process the audio*\n",
    "##### *So we are using try and except*"
   ]
  },
  {
   "cell_type": "code",
   "execution_count": null,
   "metadata": {},
   "outputs": [],
   "source": [
    "import speech_recognition as sr\n",
    "r = sr.Recognizer()\n",
    "with sr.Microphone() as source:\n",
    "    print('speak anything')\n",
    "    audio = r.listen(source)\n",
    "    try:\n",
    "        text = r.recognize_google(audio)\n",
    "        print('you said {}'.format(text))\n",
    "    except:\n",
    "        print('sry couldnt process the speech')\n",
    "        "
   ]
  }
 ],
 "metadata": {
  "kernelspec": {
   "display_name": "Python 3",
   "language": "python",
   "name": "python3"
  },
  "language_info": {
   "codemirror_mode": {
    "name": "ipython",
    "version": 3
   },
   "file_extension": ".py",
   "mimetype": "text/x-python",
   "name": "python",
   "nbconvert_exporter": "python",
   "pygments_lexer": "ipython3",
   "version": "3.8.3"
  }
 },
 "nbformat": 4,
 "nbformat_minor": 4
}
