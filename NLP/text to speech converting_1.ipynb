{
 "cells": [
  {
   "cell_type": "markdown",
   "metadata": {},
   "source": [
    "# Text to speech conversion\n",
    "##### * Lets creat a text fie and save it in same directory.\n",
    "##### * Then we import necessary libraries(google text to speech convertor)\n",
    "##### * Then we create a file handler and open the file and read it.\n",
    "##### * Then we need to replace the next line command with spaces in order to avoid the termination of program.\n",
    "##### * Then using gtts we convert the txt file into .mp3 audio file\n",
    "##### * Then we save it in some name.\n",
    "##### * Its a good practice that always close the file handler.\n",
    "##### * We can play the file by using inbulid software like ('groove music')."
   ]
  },
  {
   "cell_type": "code",
   "execution_count": null,
   "metadata": {},
   "outputs": [],
   "source": [
    "import os\n",
    "from gtts import gTTS\n",
    "fh = open('test.txt','r')\n",
    "text = fh.read().replace('\\n',' ')\n",
    "language = 'en'\n",
    "output = gTTS(text = text , lang = language , slow =  False)\n",
    "output.save('output.mp3')\n",
    "fh.close\n",
    "os.system('start output.mp3')"
   ]
  }
 ],
 "metadata": {
  "kernelspec": {
   "display_name": "Python 3",
   "language": "python",
   "name": "python3"
  },
  "language_info": {
   "codemirror_mode": {
    "name": "ipython",
    "version": 3
   },
   "file_extension": ".py",
   "mimetype": "text/x-python",
   "name": "python",
   "nbconvert_exporter": "python",
   "pygments_lexer": "ipython3",
   "version": "3.8.3"
  }
 },
 "nbformat": 4,
 "nbformat_minor": 4
}
